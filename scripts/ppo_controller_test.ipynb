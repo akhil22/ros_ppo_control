{
 "cells": [
  {
   "cell_type": "code",
   "execution_count": 1,
   "metadata": {},
   "outputs": [
    {
     "name": "stderr",
     "output_type": "stream",
     "text": [
      "/home/sai/.conda/envs/deeprlbootcamp/lib/python3.5/site-packages/tensorflow/python/framework/dtypes.py:516: FutureWarning: Passing (type, 1) or '1type' as a synonym of type is deprecated; in a future version of numpy, it will be understood as (type, (1,)) / '(1,)type'.\n",
      "  _np_qint8 = np.dtype([(\"qint8\", np.int8, 1)])\n",
      "/home/sai/.conda/envs/deeprlbootcamp/lib/python3.5/site-packages/tensorflow/python/framework/dtypes.py:517: FutureWarning: Passing (type, 1) or '1type' as a synonym of type is deprecated; in a future version of numpy, it will be understood as (type, (1,)) / '(1,)type'.\n",
      "  _np_quint8 = np.dtype([(\"quint8\", np.uint8, 1)])\n",
      "/home/sai/.conda/envs/deeprlbootcamp/lib/python3.5/site-packages/tensorflow/python/framework/dtypes.py:518: FutureWarning: Passing (type, 1) or '1type' as a synonym of type is deprecated; in a future version of numpy, it will be understood as (type, (1,)) / '(1,)type'.\n",
      "  _np_qint16 = np.dtype([(\"qint16\", np.int16, 1)])\n",
      "/home/sai/.conda/envs/deeprlbootcamp/lib/python3.5/site-packages/tensorflow/python/framework/dtypes.py:519: FutureWarning: Passing (type, 1) or '1type' as a synonym of type is deprecated; in a future version of numpy, it will be understood as (type, (1,)) / '(1,)type'.\n",
      "  _np_quint16 = np.dtype([(\"quint16\", np.uint16, 1)])\n",
      "/home/sai/.conda/envs/deeprlbootcamp/lib/python3.5/site-packages/tensorflow/python/framework/dtypes.py:520: FutureWarning: Passing (type, 1) or '1type' as a synonym of type is deprecated; in a future version of numpy, it will be understood as (type, (1,)) / '(1,)type'.\n",
      "  _np_qint32 = np.dtype([(\"qint32\", np.int32, 1)])\n",
      "/home/sai/.conda/envs/deeprlbootcamp/lib/python3.5/site-packages/tensorflow/python/framework/dtypes.py:525: FutureWarning: Passing (type, 1) or '1type' as a synonym of type is deprecated; in a future version of numpy, it will be understood as (type, (1,)) / '(1,)type'.\n",
      "  np_resource = np.dtype([(\"resource\", np.ubyte, 1)])\n",
      "/home/sai/.conda/envs/deeprlbootcamp/lib/python3.5/site-packages/h5py/__init__.py:34: FutureWarning: Conversion of the second argument of issubdtype from `float` to `np.floating` is deprecated. In future, it will be treated as `np.float64 == np.dtype(float).type`.\n",
      "  from ._conv import register_converters as _register_converters\n",
      "/home/sai/.conda/envs/deeprlbootcamp/lib/python3.5/site-packages/tensorboard/compat/tensorflow_stub/dtypes.py:541: FutureWarning: Passing (type, 1) or '1type' as a synonym of type is deprecated; in a future version of numpy, it will be understood as (type, (1,)) / '(1,)type'.\n",
      "  _np_qint8 = np.dtype([(\"qint8\", np.int8, 1)])\n",
      "/home/sai/.conda/envs/deeprlbootcamp/lib/python3.5/site-packages/tensorboard/compat/tensorflow_stub/dtypes.py:542: FutureWarning: Passing (type, 1) or '1type' as a synonym of type is deprecated; in a future version of numpy, it will be understood as (type, (1,)) / '(1,)type'.\n",
      "  _np_quint8 = np.dtype([(\"quint8\", np.uint8, 1)])\n",
      "/home/sai/.conda/envs/deeprlbootcamp/lib/python3.5/site-packages/tensorboard/compat/tensorflow_stub/dtypes.py:543: FutureWarning: Passing (type, 1) or '1type' as a synonym of type is deprecated; in a future version of numpy, it will be understood as (type, (1,)) / '(1,)type'.\n",
      "  _np_qint16 = np.dtype([(\"qint16\", np.int16, 1)])\n",
      "/home/sai/.conda/envs/deeprlbootcamp/lib/python3.5/site-packages/tensorboard/compat/tensorflow_stub/dtypes.py:544: FutureWarning: Passing (type, 1) or '1type' as a synonym of type is deprecated; in a future version of numpy, it will be understood as (type, (1,)) / '(1,)type'.\n",
      "  _np_quint16 = np.dtype([(\"quint16\", np.uint16, 1)])\n",
      "/home/sai/.conda/envs/deeprlbootcamp/lib/python3.5/site-packages/tensorboard/compat/tensorflow_stub/dtypes.py:545: FutureWarning: Passing (type, 1) or '1type' as a synonym of type is deprecated; in a future version of numpy, it will be understood as (type, (1,)) / '(1,)type'.\n",
      "  _np_qint32 = np.dtype([(\"qint32\", np.int32, 1)])\n",
      "/home/sai/.conda/envs/deeprlbootcamp/lib/python3.5/site-packages/tensorboard/compat/tensorflow_stub/dtypes.py:550: FutureWarning: Passing (type, 1) or '1type' as a synonym of type is deprecated; in a future version of numpy, it will be understood as (type, (1,)) / '(1,)type'.\n",
      "  np_resource = np.dtype([(\"resource\", np.ubyte, 1)])\n"
     ]
    }
   ],
   "source": [
    "from husky_ppo_control import HuskyPPO\n",
    "import cubic_spline_planner\n",
    "import matplotlib.pyplot as plt\n",
    "import time\n",
    "import numpy as np\n",
    "import math\n",
    "%matplotlib tk"
   ]
  },
  {
   "cell_type": "code",
   "execution_count": 2,
   "metadata": {},
   "outputs": [],
   "source": [
    "husky_ppo = HuskyPPO()"
   ]
  },
  {
   "cell_type": "code",
   "execution_count": null,
   "metadata": {},
   "outputs": [],
   "source": [
    "ax = [0.0,6.0, 12.5, 10.0, 17.5, 20.0, 25.0] \n",
    "ay = [0.0,-3.0, -5.0, 6.5, 3.0, 0.0, 0.0]\n",
    "cx, cy, cyaw, ck, s = cubic_spline_planner.calc_spline_course(ax, ay, ds= 0.5)\n",
    "plt.plot(cx, cy, \"+\")\n",
    "plt.show()\n",
    "cv = [3.0]*len(cx)\n",
    "husky_ppo.set_waypoints_from_list(cx, cy, cyaw, cv)"
   ]
  },
  {
   "cell_type": "code",
   "execution_count": 3,
   "metadata": {},
   "outputs": [
    {
     "data": {
      "image/png": "[encoded data removed]",
      "text/plain": [
       "<Figure size 432x288 with 1 Axes>"
      ]
     },
     "metadata": {
      "needs_background": "light"
     },
     "output_type": "display_data"
    }
   ],
   "source": [
    "husky_ppo.read_waypoint_file(\"./unity_waypoints_bkp.txt\")\n",
    "cx = [i[0] for i in husky_ppo.waypoints_list]\n",
    "cy = [i[1] for i in husky_ppo.waypoints_list]\n",
    "plt.plot(cx, cy, \"+\")\n",
    "plt.show()"
   ]
  },
  {
   "cell_type": "code",
   "execution_count": 4,
   "metadata": {},
   "outputs": [],
   "source": [
    "def simulate_warthog(X, v, w, dt):\n",
    "    xcurr = X[0] + v*math.cos(X[2])*dt\n",
    "    ycurr = X[1] + v*math.sin(X[2])*dt\n",
    "    thcurr = X[2]+w*dt\n",
    "    return [xcurr, ycurr, thcurr]"
   ]
  },
  {
   "cell_type": "code",
   "execution_count": 5,
   "metadata": {},
   "outputs": [
    {
     "name": "stdout",
     "output_type": "stream",
     "text": [
      "WARNING:tensorflow:From /home/sai/python3_ros/src/ros_ppo_control/scripts/husky_ppo_control.py:130: The name tf.gfile.GFile is deprecated. Please use tf.io.gfile.GFile instead.\n",
      "\n",
      "WARNING:tensorflow:From /home/sai/python3_ros/src/ros_ppo_control/scripts/husky_ppo_control.py:131: The name tf.GraphDef is deprecated. Please use tf.compat.v1.GraphDef instead.\n",
      "\n"
     ]
    }
   ],
   "source": [
    "#husky_ppo.set_pose([30.67, -33.33, 3.06])\n",
    "husky_ppo.set_pose([120.180, -78.957, 140*math.pi/180.])\n",
    "husky_ppo.set_twist([0. , 0.])\n",
    "#husky_ppo.set_pose([0. , 0.5, 7*math.pi/4])\n",
    "husky_ppo.read_tf_frozen_graph(\"/home/sai/hdd1/ml-master/ml-agents/config/ppo/results/wlong_path43/3DBall/frozen_graph_def.pb\")"
   ]
  },
  {
   "cell_type": "code",
   "execution_count": 6,
   "metadata": {},
   "outputs": [
    {
     "name": "stdout",
     "output_type": "stream",
     "text": [
      "WARNING:tensorflow:From /home/sai/python3_ros/src/ros_ppo_control/scripts/husky_ppo_control.py:138: The name tf.Session is deprecated. Please use tf.compat.v1.Session instead.\n",
      "\n"
     ]
    }
   ],
   "source": [
    "x_pose = []\n",
    "y_pose = []\n",
    "for i in range(0, 200):\n",
    "    obs = husky_ppo.get_observation()\n",
    "    twist = husky_ppo.get_control(np.array(obs).reshape(1,42))\n",
    "    v = np.clip(twist[0][0], 0, 1) * 4.0\n",
    "    w = np.clip(twist[0][1], -1, 1) * 2.5\n",
    "    current_pose = simulate_warthog(husky_ppo.get_pose(), v, w, 0.05)\n",
    "    #print(twist[0], current_pose)\n",
    "    husky_ppo.set_pose(current_pose)\n",
    "    husky_ppo.set_twist([v, w])\n",
    "    x_pose.append(current_pose[0])\n",
    "    y_pose.append(current_pose[1])"
   ]
  },
  {
   "cell_type": "code",
   "execution_count": 7,
   "metadata": {},
   "outputs": [
    {
     "data": {
      "text/plain": [
       "[<matplotlib.lines.Line2D at 0x7f50e871e7f0>]"
      ]
     },
     "execution_count": 7,
     "metadata": {},
     "output_type": "execute_result"
    },
    {
     "data": {
      "image/png": "[encoded data removed]",
      "text/plain": [
       "<Figure size 432x288 with 1 Axes>"
      ]
     },
     "metadata": {
      "needs_background": "light"
     },
     "output_type": "display_data"
    }
   ],
   "source": [
    "plt.cla()\n",
    "plt.plot(x_pose, y_pose, '+g')\n",
    "plt.plot(cx, cy, \"+b\")\n",
    "#plt.xlim([0, 25])\n",
    "#plt.ylim([-20, 7])"
   ]
  },
  {
   "cell_type": "code",
   "execution_count": null,
   "metadata": {},
   "outputs": [],
   "source": [
    "obs = husky_ppo.get_observation()"
   ]
  },
  {
   "cell_type": "code",
   "execution_count": null,
   "metadata": {},
   "outputs": [],
   "source": [
    "print(obs)"
   ]
  },
  {
   "cell_type": "code",
   "execution_count": null,
   "metadata": {},
   "outputs": [],
   "source": [
    "print(husky_ppo.get_pose())"
   ]
  },
  {
   "cell_type": "code",
   "execution_count": null,
   "metadata": {},
   "outputs": [],
   "source": [
    "husky_ppo.closest_idx"
   ]
  },
  {
   "cell_type": "code",
   "execution_count": null,
   "metadata": {},
   "outputs": [],
   "source": [
    "2*math.pi - 6.1321"
   ]
  },
  {
   "cell_type": "code",
   "execution_count": null,
   "metadata": {},
   "outputs": [],
   "source": [
    "i = 0\n",
    "while i < len(obs)-3:\n",
    "    print([obs[i], obs[i+1], obs[i+2], obs[i+3]])\n",
    "    i = i + 4"
   ]
  },
  {
   "cell_type": "code",
   "execution_count": null,
   "metadata": {},
   "outputs": [],
   "source": [
    "obs2 = [ 3.1718987e-01,  2.6397274e+00, -7.1165800e-02,  2.9253261e+00,\n",
    "         8.2946199e-01,  2.4810174e+00, -2.3757100e-01,  2.9868939e+00,\n",
    "         1.4194126e+00,  2.3704438e+00, -3.9009976e-01,  2.9857869e+00,\n",
    "         2.0244434e+00,  2.2775273e+00, -4.8208833e-01,  3.2309980e+00,\n",
    "         2.5908678e+00,  2.2095571e+00, -5.5408025e-01,  3.0272779e+00,\n",
    "         3.1385303e+00,  2.1544523e+00, -5.6134295e-01,  2.8097680e+00,\n",
    "         3.6512144e+00,  2.1172132e+00, -5.9754920e-01,  2.6893539e+00,\n",
    "         4.2099533e+00,  2.0821514e+00, -6.1818290e-01,  2.6712611e+00,\n",
    "         4.7472596e+00,  2.0539546e+00, -6.3812470e-01,  2.9293561e+00,\n",
    "         5.2431216e+00,  2.0312028e+00, -6.4151406e-01,  2.9405370e+00,\n",
    "         3.7776546e-03, -1.4553810e-03]"
   ]
  },
  {
   "cell_type": "code",
   "execution_count": null,
   "metadata": {},
   "outputs": [],
   "source": [
    "i = 0\n",
    "while i < len(obs2)-3:\n",
    "    print([obs2[i], obs2[i+1], obs2[i+2], obs2[i+3]])\n",
    "    i = i + 4"
   ]
  },
  {
   "cell_type": "code",
   "execution_count": null,
   "metadata": {},
   "outputs": [],
   "source": []
  }
 ],
 "metadata": {
  "kernelspec": {
   "display_name": "Python 3",
   "language": "python",
   "name": "python3"
  },
  "language_info": {
   "codemirror_mode": {
    "name": "ipython",
    "version": 3
   },
   "file_extension": ".py",
   "mimetype": "text/x-python",
   "name": "python",
   "nbconvert_exporter": "python",
   "pygments_lexer": "ipython3",
   "version": "3.5.6"
  }
 },
 "nbformat": 4,
 "nbformat_minor": 2
}
